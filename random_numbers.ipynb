{
 "cells": [
  {
   "cell_type": "code",
   "execution_count": 56,
   "id": "275762b2-4c97-47a5-8b2a-652cf3496335",
   "metadata": {},
   "outputs": [],
   "source": [
    "# Import the random module.\n",
    "import random\n",
    "# Import the NumPy module.\n",
    "import numpy as np"
   ]
  },
  {
   "cell_type": "code",
   "execution_count": 57,
   "id": "250150be-19e1-482c-8a13-bd83ccafe271",
   "metadata": {},
   "outputs": [
    {
     "data": {
      "text/plain": [
       "62"
      ]
     },
     "execution_count": 57,
     "metadata": {},
     "output_type": "execute_result"
    }
   ],
   "source": [
    "random.randint(-90, 90)"
   ]
  },
  {
   "cell_type": "code",
   "execution_count": 58,
   "id": "ed199c5b-a585-4211-8462-a93ddb934d90",
   "metadata": {},
   "outputs": [
    {
     "data": {
      "text/plain": [
       "0.8279355004834236"
      ]
     },
     "execution_count": 58,
     "metadata": {},
     "output_type": "execute_result"
    }
   ],
   "source": [
    "random.random()"
   ]
  },
  {
   "cell_type": "code",
   "execution_count": 59,
   "id": "7563fade-77c9-42de-89a3-55f74adddfe8",
   "metadata": {},
   "outputs": [
    {
     "data": {
      "text/plain": [
       "[-66.94637175312322,\n",
       " -67.69114133598234,\n",
       " -89.2226507612343,\n",
       " 33.38153089447109,\n",
       " 26.292834279470565,\n",
       " 25.314698479985047,\n",
       " -12.588605799355213,\n",
       " 55.37639281953784,\n",
       " -5.656114829787727,\n",
       " 67.84979061014317]"
      ]
     },
     "execution_count": 59,
     "metadata": {},
     "output_type": "execute_result"
    }
   ],
   "source": [
    "x = 1\n",
    "latitudes = []\n",
    "while x < 11:\n",
    "    random_lat = random.randint(-90, 89) + random.random()\n",
    "    latitudes.append(random_lat)\n",
    "    x += 1\n",
    "\n",
    "latitudes"
   ]
  },
  {
   "cell_type": "code",
   "execution_count": 60,
   "id": "9e5ef238-346a-4a1b-b311-e9d2623ec8dd",
   "metadata": {},
   "outputs": [
    {
     "data": {
      "text/plain": [
       "-41"
      ]
     },
     "execution_count": 60,
     "metadata": {},
     "output_type": "execute_result"
    }
   ],
   "source": [
    "random.randrange(-90, 90, step=1)"
   ]
  },
  {
   "cell_type": "code",
   "execution_count": 61,
   "id": "09b7af0e-9ec1-4530-8ae8-3788798e57d9",
   "metadata": {},
   "outputs": [
    {
     "data": {
      "text/plain": [
       "-49.08705294963487"
      ]
     },
     "execution_count": 61,
     "metadata": {},
     "output_type": "execute_result"
    }
   ],
   "source": [
    "random.randrange(-90, 90, step=10) + random.random()"
   ]
  },
  {
   "cell_type": "code",
   "execution_count": 62,
   "id": "cb918685-9690-4071-94a2-26eea9b2e29d",
   "metadata": {},
   "outputs": [
    {
     "data": {
      "text/plain": [
       "-26.228070627421616"
      ]
     },
     "execution_count": 62,
     "metadata": {},
     "output_type": "execute_result"
    }
   ],
   "source": [
    "random.uniform(-90, 90)"
   ]
  },
  {
   "cell_type": "code",
   "execution_count": 95,
   "id": "32651692-96d9-4027-a7ff-c4734f3f9843",
   "metadata": {},
   "outputs": [
    {
     "data": {
      "text/plain": [
       "array([-48.12465312,  18.60384372,  60.51142885, -12.00926718,\n",
       "       -33.8792974 ,  -4.52269658, -63.21410287,  23.99371896,\n",
       "       -30.16040871, -36.80816696,  -4.67364779, -77.82889715,\n",
       "       -38.93145048,   8.50934716,  10.50246601, -42.67791994,\n",
       "        84.00450381, -55.96025338, -66.29905143, -87.19194735,\n",
       "        58.67365731,  88.1670324 ,   2.59683481,  69.95389371,\n",
       "       -31.86666332,  -4.66229913,  62.18432659,  61.79200322,\n",
       "        29.53072968,  28.53881258, -33.67984273,  21.06191537,\n",
       "       -42.04585599, -60.38889306, -20.25833981,  48.1080727 ,\n",
       "         6.78468644,   5.24689906,  56.26951198, -58.68176942,\n",
       "         3.45155882,  66.99214436,  70.71658777,  75.10494696,\n",
       "       -50.18544661,  35.76018298, -89.4747355 ,  -5.80510181,\n",
       "        58.15417658,  40.72583743])"
      ]
     },
     "execution_count": 95,
     "metadata": {},
     "output_type": "execute_result"
    }
   ],
   "source": [
    "np.random.uniform(-90.000, 90.000, size=50)"
   ]
  },
  {
   "cell_type": "code",
   "execution_count": 96,
   "id": "5ffc824b-5ccc-4e4b-b48b-608fa2cffef8",
   "metadata": {},
   "outputs": [],
   "source": [
    "# Import timeit.\n",
    "import timeit"
   ]
  },
  {
   "cell_type": "code",
   "execution_count": 97,
   "id": "ebf37a96-e6d7-4894-9bd7-c79603442d0e",
   "metadata": {},
   "outputs": [
    {
     "name": "stdout",
     "output_type": "stream",
     "text": [
      "9.28 µs ± 12.2 ns per loop (mean ± std. dev. of 7 runs, 100000 loops each)\n"
     ]
    }
   ],
   "source": [
    "%timeit np.random.uniform(-90.000, 90.000, size=1500)"
   ]
  },
  {
   "cell_type": "code",
   "execution_count": 106,
   "id": "70f73f58-83db-42d5-b6ec-42773977e450",
   "metadata": {},
   "outputs": [
    {
     "name": "stdout",
     "output_type": "stream",
     "text": [
      "<function latitudes at 0x000001AA3ED9F798>\n"
     ]
    }
   ],
   "source": [
    "def latitudes(size):\n",
    "    latitudes = []\n",
    "    x = 0\n",
    "    while x < (size):\n",
    "        random_lat = random.randint(-90, 90) + random.random()\n",
    "        latitudes.append(random_lat)\n",
    "        x += 1\n",
    "print(latitudes)"
   ]
  },
  {
   "cell_type": "code",
   "execution_count": null,
   "id": "6cbd5d99-6fe4-4d1c-8fd5-00e6ebafb374",
   "metadata": {},
   "outputs": [],
   "source": []
  },
  {
   "cell_type": "code",
   "execution_count": null,
   "id": "0afd3659-e269-42d5-8f3b-0af7960a95ff",
   "metadata": {},
   "outputs": [],
   "source": []
  }
 ],
 "metadata": {
  "kernelspec": {
   "display_name": "PythonData",
   "language": "python",
   "name": "pythondata"
  },
  "language_info": {
   "codemirror_mode": {
    "name": "ipython",
    "version": 3
   },
   "file_extension": ".py",
   "mimetype": "text/x-python",
   "name": "python",
   "nbconvert_exporter": "python",
   "pygments_lexer": "ipython3",
   "version": "3.7.10"
  }
 },
 "nbformat": 4,
 "nbformat_minor": 5
}
